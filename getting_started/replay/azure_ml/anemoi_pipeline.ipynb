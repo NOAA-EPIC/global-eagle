{
 "cells": [
  {
   "cell_type": "markdown",
   "id": "9458bf60",
   "metadata": {},
   "source": [
    "# Welcome to the ufs2arco + Anemoi + wxvx Framework in AzureML!\n",
    "\n",
    "This notebook will guide you through the basic steps of running the Anemoi framework.\n",
    "\n",
    "1) Create your training and validation datasets with ufs2arco\n",
    "2) Submit a training job with Anemoi\n",
    "3) Run inference with Anemoi\n",
    "4) Run verification with wxvx\n",
    "\n",
    "More details will be provided in each individual section.\n",
    "\n",
    "## Step 0: Configure azure settings and permissions"
   ]
  },
  {
   "cell_type": "code",
   "execution_count": null,
   "id": "0b7416b4",
   "metadata": {},
   "outputs": [],
   "source": [
    "from azureml.core import Workspace, Experiment\n",
    "from azure.ai.ml import MLClient, Input, Output, command\n",
    "from azure.identity import DefaultAzureCredential\n",
    "from azure.ai.ml.entities import Environment, BuildContext\n",
    "from azure.ai.ml.constants import AssetTypes\n",
    "\n",
    "ws = Workspace.from_config()\n",
    "\n",
    "ml_client = MLClient(\n",
    "    DefaultAzureCredential(),\n",
    "    ws.subscription_id,\n",
    "    ws.resource_group,\n",
    "    ws.name,\n",
    ")\n",
    "\n",
    "# Get your workspace's default datastore (or specify another registered datastore)\n",
    "default_ds = ml_client.datastores.get_default()"
   ]
  },
  {
   "cell_type": "markdown",
   "id": "b1fb6d50",
   "metadata": {},
   "source": [
    "## Step 1: Create conda environment\n",
    "You only need to do this once! Check if this environment was already created by someone else before running."
   ]
  },
  {
   "cell_type": "code",
   "execution_count": null,
   "id": "0b9eb4a7",
   "metadata": {},
   "outputs": [],
   "source": [
    "# create anemoi conda environment\n",
    "\n",
    "env_docker_conda = Environment(\n",
    "    image=\"mcr.microsoft.com/azureml/openmpi4.1.0-cuda11.8-cudnn8-ubuntu22.04\",\n",
    "    conda_file=\"conf/conda/anemoi-conda.yaml\",\n",
    "    name=\"anemoi\",\n",
    "    description=\"anemoi environment created from a Docker image plus Conda environment.\",\n",
    ")\n",
    "\n",
    "ml_client.environments.create_or_update(env_docker_conda)"
   ]
  },
  {
   "cell_type": "markdown",
   "id": "c9dd6d7c",
   "metadata": {},
   "source": [
    "## Step 2: Create replay dataset with ufs2arco\n",
    "Saves a dataset to your default datastore that will include training and validation data together in one dataset."
   ]
  },
  {
   "cell_type": "code",
   "execution_count": null,
   "id": "02a89f79",
   "metadata": {},
   "outputs": [],
   "source": [
    "\"\"\"More documentation on submitting jobs this way can be found here:\n",
    "https://docs.azure.cn/en-us/machine-learning/how-to-train-model?view=azureml-api-2&tabs=python#example-job\n",
    "\"\"\"\n",
    "\n",
    "experiment_name = 'ufs2arco'\n",
    "output_path = \"replay\"\n",
    "output_zarr = \"replay.zarr\"\n",
    "\n",
    "outputs = Output(\n",
    "    type=\"uri_folder\",\n",
    "    path=f\"azureml://datastores/{default_ds.name}/paths/{output_path}/{output_zarr}\" \n",
    ")\n",
    "\n",
    "# This creates the command that will be submitted within the job\n",
    "command_job = command(\n",
    "    code=\"./data\",\n",
    "    command=f\"bash submit_ufs2arco.sh ${{outputs.output_blob}} {output_path} {output_zarr}\",\n",
    "    environment=\"anemoi:15\",\n",
    "    compute=\"Standard-D13-v2\",\n",
    "    experiment_name=experiment_name,\n",
    "    display_name=\"training_dataset\",\n",
    "    outputs={\"output_blob\": outputs},\n",
    ")\n",
    "\n",
    "# Submit the job\n",
    "returned_job = ml_client.jobs.create_or_update(command_job)\n",
    "\n",
    "# Get a URL for the status of the job\n",
    "returned_job.services[\"Studio\"].endpoint"
   ]
  },
  {
   "cell_type": "markdown",
   "id": "b4e07b38",
   "metadata": {},
   "source": [
    "## Step 3: Submit a training job with Anemoi"
   ]
  },
  {
   "cell_type": "code",
   "execution_count": null,
   "id": "e6dc2728",
   "metadata": {},
   "outputs": [],
   "source": [
    "input_path = \"replay\"\n",
    "input_zarr = \"replay.zarr\"\n",
    "replay_inputs = Input(\n",
    "    type=\"uri_folder\",\n",
    "    mode=\"ro_mount\",\n",
    "    path=f\"azureml://datastores/{default_ds.name}/paths/{input_path}/{input_zarr}\",\n",
    ")\n",
    "\n",
    "outputs = Output(\n",
    "    type=\"uri_folder\",\n",
    "    mode=\"upload\",\n",
    "    path=f\"azureml://datastores/{default_ds.name}/paths/output/\",\n",
    ")\n",
    "\n",
    "command_job = command(\n",
    "    code=\"./training\",\n",
    "    command=f\"bash submit_training.sh ${{inputs.data}} ${{outputs.output_dir}}\",\n",
    "    environment=\"anemoi:15\",\n",
    "    compute=\"Standard-ND96asr-v4\",\n",
    "    experiment_name=\"anemoi-training\",\n",
    "    display_name=\"test\",\n",
    "    outputs={\"output_dir\": outputs},\n",
    "    inputs={\"data\": replay_inputs},\n",
    ")\n",
    "\n",
    "# Submit the job\n",
    "returned_job = ml_client.jobs.create_or_update(command_job)\n",
    "\n",
    "# Get a URL for the status of the job\n",
    "returned_job.services[\"Studio\"].endpoint"
   ]
  },
  {
   "cell_type": "markdown",
   "id": "8d88621a",
   "metadata": {},
   "source": [
    "# Step 4: Submit inference job with Anemoi"
   ]
  },
  {
   "cell_type": "code",
   "execution_count": null,
   "id": "3924473d",
   "metadata": {},
   "outputs": [],
   "source": [
    "# TODO :)"
   ]
  },
  {
   "cell_type": "markdown",
   "id": "a854cbfd",
   "metadata": {},
   "source": [
    "# Step 5: Submit verification job with wxvx"
   ]
  },
  {
   "cell_type": "code",
   "execution_count": null,
   "id": "b5f55c7b",
   "metadata": {},
   "outputs": [],
   "source": [
    "# TODO :)"
   ]
  }
 ],
 "metadata": {
  "kernelspec": {
   "display_name": "base",
   "language": "python",
   "name": "python3"
  },
  "language_info": {
   "codemirror_mode": {
    "name": "ipython",
    "version": 3
   },
   "file_extension": ".py",
   "mimetype": "text/x-python",
   "name": "python",
   "nbconvert_exporter": "python",
   "pygments_lexer": "ipython3",
   "version": "3.11.5"
  }
 },
 "nbformat": 4,
 "nbformat_minor": 5
}
